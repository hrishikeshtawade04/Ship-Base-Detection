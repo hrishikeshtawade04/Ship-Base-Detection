{
 "cells": [
  {
   "cell_type": "code",
   "execution_count": 2,
   "metadata": {},
   "outputs": [
    {
     "name": "stderr",
     "output_type": "stream",
     "text": [
      "Using TensorFlow backend.\n"
     ]
    }
   ],
   "source": [
    "import os\n",
    "import csv\n",
    "import cv2\n",
    "import numpy as np\n",
    "import pandas as pd\n",
    "import matplotlib.pyplot as plt\n",
    "from keras.models import Sequential, load_model\n",
    "from keras.layers import Flatten, Dense, Lambda, Convolution2D, Cropping2D, Dropout, MaxPooling2D\n",
    "from sklearn.model_selection import train_test_split\n",
    "import gc\n",
    "from keras import backend as K\n",
    "import glob\n",
    "import sklearn\n",
    "\n",
    "%matplotlib inline"
   ]
  },
  {
   "cell_type": "code",
   "execution_count": 3,
   "metadata": {
    "collapsed": true
   },
   "outputs": [],
   "source": [
    "def create_train_test_data(test_size=0.2):\n",
    "    coast = glob.glob(\"MASATI-v1\\coast\\*\")\n",
    "    land = glob.glob(\"MASATI-v1\\land\\*\")\n",
    "    sea = glob.glob(\"MASATI-v1\\sea\\*\")\n",
    "    multi = glob.glob(\"MASATI-v1\\multi\\*\")\n",
    "    detail = glob.glob(\"MASATI-v1\\detail\\*\")\n",
    "    ship = glob.glob(\"MASATI-v1\\ship\\*\")\n",
    "    coast_ship = glob.glob(\"MASATI-v1\\coast_ship\\*\")\n",
    "\n",
    "    y_coast = np.zeros(len(coast))\n",
    "    y_land = np.zeros(len(land))\n",
    "    y_sea = np.zeros(len(sea))\n",
    "    y_multi = np.ones(len(multi))\n",
    "    y_ship = np.ones(len(ship))\n",
    "    y_detail = np.ones(len(detail))\n",
    "    y_coast_ship = np.ones(len(coast_ship))\n",
    "\n",
    "    X = np.concatenate([coast,land,sea,multi,ship,detail,coast_ship])\n",
    "\n",
    "    print(\"Total Dataset = \", X.shape)\n",
    "    y = np.concatenate([y_coast,y_land,y_sea,y_multi,y_ship,y_detail,y_coast_ship])\n",
    "    print(\"Total Labels = \", len(y))\n",
    "    X_train, X_test, y_train, y_test = train_test_split(X, y, test_size=0.2, random_state=1, stratify=y)                                                \n",
    "    return X_train, X_test, y_train, y_test"
   ]
  },
  {
   "cell_type": "code",
   "execution_count": 4,
   "metadata": {},
   "outputs": [
    {
     "name": "stdout",
     "output_type": "stream",
     "text": [
      "Total Dataset =  (5202,)\n",
      "Total Labels =  5202\n",
      "(4161,)\n",
      "(4161,)\n",
      "(1041,)\n",
      "(1041,)\n"
     ]
    }
   ],
   "source": [
    "X_train, X_test, y_train, y_test = create_train_test_data()\n",
    "print(X_train.shape)\n",
    "print(y_train.shape)\n",
    "print(X_test.shape)\n",
    "print(y_test.shape)"
   ]
  },
  {
   "cell_type": "code",
   "execution_count": 5,
   "metadata": {},
   "outputs": [
    {
     "data": {
      "image/png": "[encoded data removed]",
      "text/plain": [
       "<matplotlib.figure.Figure at 0x1f5bbf42470>"
      ]
     },
     "metadata": {},
     "output_type": "display_data"
    }
   ],
   "source": [
    "#hist = np.histogram(y_train, bins=2,range = (0,1))\n",
    "plt.hist(y_train, bins='auto')\n",
    "plt.hist(y_test, bins='auto')\n",
    "plt.show()"
   ]
  },
  {
   "cell_type": "code",
   "execution_count": 6,
   "metadata": {
    "collapsed": true
   },
   "outputs": [],
   "source": [
    "# Creating a generator\n",
    "def generator(X,y, batch_size=32):\n",
    "    num_samples = len(X)\n",
    "    while 1: # Loop forever so the generator never terminates\n",
    "        combined = list(zip(X,y))\n",
    "        sklearn.utils.shuffle(combined) # shuffle data\n",
    "        for offset in range(0, num_samples, batch_size):\n",
    "            batch_samples = combined[offset:offset+batch_size] # batch of 32 feeded in the batch samples\n",
    "            #batch_Y = Y[offset:offset+batch_size]\n",
    "            images = [] # empty arrays for processing\n",
    "            labels = []\n",
    "            for batch_sample in batch_samples:\n",
    "                #print( batch_sample[0].split('/')[-1])\n",
    "                #name = '../data/IMG/'+batch_sample[0].split('\\\\')[-1] #batch_sample[0].split('/')[-1] # <--- should be used if code running on windows instead of EC2\n",
    "                center_image = cv2.imread(batch_sample[0])\n",
    "                center_image = cv2.cvtColor(center_image, cv2.COLOR_BGR2RGB) # takes care of the BGR to RGB conversion. since finally the simulator outputs RGB\n",
    "                #center_angle = float(batch_sample[1])\n",
    "                images.append(center_image)\n",
    "                labels.append(batch_sample[1])\n",
    "\n",
    "            # trim image to only see section with road\n",
    "            X_train = np.array(images)\n",
    "            y_train = np.array(labels)\n",
    "            yield sklearn.utils.shuffle(X_train, y_train) # shuffle data again\n"
   ]
  },
  {
   "cell_type": "code",
   "execution_count": 7,
   "metadata": {
    "collapsed": true
   },
   "outputs": [],
   "source": [
    "# compile and train the model using the generator function\n",
    "train_generator = generator(X_train, y_train, batch_size=32)\n",
    "#validation_generator = generator(validation_samples, batch_size=32)"
   ]
  },
  {
   "cell_type": "code",
   "execution_count": 8,
   "metadata": {},
   "outputs": [
    {
     "name": "stderr",
     "output_type": "stream",
     "text": [
      "C:\\Users\\kapil\\Anaconda2\\envs\\tensorflow-gpu\\lib\\site-packages\\ipykernel_launcher.py:7: UserWarning: Update your `Conv2D` call to the Keras 2 API: `Conv2D(24, (5, 5), strides=(2, 2), activation=\"relu\")`\n",
      "  import sys\n",
      "C:\\Users\\kapil\\Anaconda2\\envs\\tensorflow-gpu\\lib\\site-packages\\ipykernel_launcher.py:9: UserWarning: Update your `Conv2D` call to the Keras 2 API: `Conv2D(36, (5, 5), strides=(2, 2), activation=\"relu\")`\n",
      "  if __name__ == '__main__':\n",
      "C:\\Users\\kapil\\Anaconda2\\envs\\tensorflow-gpu\\lib\\site-packages\\ipykernel_launcher.py:11: UserWarning: Update your `Conv2D` call to the Keras 2 API: `Conv2D(48, (5, 5), strides=(2, 2), activation=\"relu\")`\n",
      "  # This is added back by InteractiveShellApp.init_path()\n",
      "C:\\Users\\kapil\\Anaconda2\\envs\\tensorflow-gpu\\lib\\site-packages\\ipykernel_launcher.py:13: UserWarning: Update your `Conv2D` call to the Keras 2 API: `Conv2D(64, (3, 3), activation=\"relu\")`\n",
      "  del sys.path[0]\n",
      "C:\\Users\\kapil\\Anaconda2\\envs\\tensorflow-gpu\\lib\\site-packages\\ipykernel_launcher.py:15: UserWarning: Update your `Conv2D` call to the Keras 2 API: `Conv2D(64, (3, 3), activation=\"relu\")`\n",
      "  from ipykernel import kernelapp as app\n",
      "C:\\Users\\kapil\\Anaconda2\\envs\\tensorflow-gpu\\lib\\site-packages\\ipykernel_launcher.py:17: UserWarning: Update your `Dropout` call to the Keras 2 API: `Dropout(rate=0.5)`\n"
     ]
    }
   ],
   "source": [
    "model = Sequential()\n",
    "# Preprocess incoming data, centered around zero with small standard deviation \n",
    "model.add(Lambda(lambda x: (x / 255.0) - 0.5, input_shape=(256,256,3)))\n",
    "# Cropping to focus only on road\n",
    "#model.add(Cropping2D(cropping=((50,20), (0,0))))\n",
    "#Covolution Layer 1 \n",
    "model.add(Convolution2D(24, 5, 5, activation='relu', subsample=(2, 2)))\n",
    "#Covolution Layer 2\n",
    "model.add(Convolution2D(36, 5, 5, activation='relu', subsample=(2, 2)))\n",
    "#Covolution Layer 3\n",
    "model.add(Convolution2D(48, 5, 5, activation='relu', subsample=(2, 2)))\n",
    "#Covolution Layer 4\n",
    "model.add(Convolution2D(64, 3, 3, activation='relu'))\n",
    "#Covolution Layer 5\n",
    "model.add(Convolution2D(64, 3, 3, activation='relu'))\n",
    "#Dropout Layer \n",
    "model.add(Dropout(p = 0.5)) # can be tuned\n",
    "# Flatten for passing to Fully Connected layers\n",
    "model.add(Flatten())\n",
    "# FC 1\n",
    "model.add(Dense(100))#, activation='elu')) <--- Can add relu here too. But I thought it wasn't necessary later on.\n",
    "# FC 2\n",
    "model.add(Dense(50))#, activation='elu'))\n",
    "# FC 3\n",
    "model.add(Dense(10))#, activation='elu'))\n",
    "# FC 4\n",
    "model.add(Dense(1))"
   ]
  },
  {
   "cell_type": "code",
   "execution_count": 9,
   "metadata": {},
   "outputs": [
    {
     "name": "stderr",
     "output_type": "stream",
     "text": [
      "C:\\Users\\kapil\\Anaconda2\\envs\\tensorflow-gpu\\lib\\site-packages\\ipykernel_launcher.py:2: UserWarning: The semantics of the Keras 2 argument `steps_per_epoch` is not the same as the Keras 1 argument `samples_per_epoch`. `steps_per_epoch` is the number of batches to draw from the generator at each epoch. Basically steps_per_epoch = samples_per_epoch/batch_size. Similarly `nb_val_samples`->`validation_steps` and `val_samples`->`steps` arguments have changed. Update your method calls accordingly.\n",
      "  \n",
      "C:\\Users\\kapil\\Anaconda2\\envs\\tensorflow-gpu\\lib\\site-packages\\ipykernel_launcher.py:2: UserWarning: Update your `fit_generator` call to the Keras 2 API: `fit_generator(<generator..., epochs=3, steps_per_epoch=4161)`\n",
      "  \n"
     ]
    },
    {
     "name": "stdout",
     "output_type": "stream",
     "text": [
      "Epoch 1/3\n",
      "4161/4161 [==============================] - 265s 64ms/step - loss: 0.0373 - acc: 0.9654\n",
      "Epoch 2/3\n",
      "4161/4161 [==============================] - 261s 63ms/step - loss: 0.0091 - acc: 0.9977\n",
      "Epoch 3/3\n",
      "4161/4161 [==============================] - 261s 63ms/step - loss: 0.0064 - acc: 0.9989\n"
     ]
    },
    {
     "data": {
      "text/plain": [
       "<keras.callbacks.History at 0x17f649a0d30>"
      ]
     },
     "execution_count": 9,
     "metadata": {},
     "output_type": "execute_result"
    }
   ],
   "source": [
    "model.compile(loss='mse', optimizer='adam', metrics=['accuracy']) # Using default learning rate and MSE as loss function\n",
    "model.fit_generator(train_generator, samples_per_epoch= len(X_train), nb_epoch=3)"
   ]
  },
  {
   "cell_type": "code",
   "execution_count": 10,
   "metadata": {
    "collapsed": true
   },
   "outputs": [],
   "source": [
    "model.save('model_1.h5')"
   ]
  },
  {
   "cell_type": "code",
   "execution_count": 7,
   "metadata": {
    "collapsed": true
   },
   "outputs": [],
   "source": [
    "model1 = load_model('model_1.h5')"
   ]
  },
  {
   "cell_type": "code",
   "execution_count": 8,
   "metadata": {
    "collapsed": true
   },
   "outputs": [],
   "source": [
    "# Creating a generator\n",
    "def testCreator(X):\n",
    "    images = []\n",
    "    num_samples = len(X)\n",
    "    for path in X:\n",
    "        #print( batch_sample[0].split('/')[-1])\n",
    "        #name = '../data/IMG/'+batch_sample[0].split('\\\\')[-1] #batch_sample[0].split('/')[-1] # <--- should be used if code running on windows instead of EC2\n",
    "        center_image = cv2.imread(path)\n",
    "        center_image = cv2.cvtColor(center_image, cv2.COLOR_BGR2RGB) # takes care of the BGR to RGB conversion. since finally the simulator outputs RGB\n",
    "        #center_angle = float(batch_sample[1])\n",
    "        images.append(center_image)\n",
    "        # trim image to only see section with road\n",
    "    X_test = np.array(images)\n",
    "    return X_test"
   ]
  },
  {
   "cell_type": "code",
   "execution_count": 9,
   "metadata": {
    "collapsed": true
   },
   "outputs": [],
   "source": [
    "def convert_frames_to_video():\n",
    "    output = glob.glob(\"output\\*\")\n",
    "    frame_array = []\n",
    "    #print(frame_array[0])\n",
    "    \n",
    "    #out = cv2.VideoWriter(pathOut,cv2.VideoWriter_fourcc(*'DIVX'), fps, (600,600))\n",
    "    for i in output:\n",
    "        # writing to a image array\n",
    "        img = cv2.imread(i)\n",
    "        frame_array.append(img)\n",
    "        #cv2.resizeWindow('image', 1000,1000)\n",
    "        #cv2.imshow('image',frame_array[i])    \n",
    "        #cv2.waitKey(500)\n",
    "        #cv2.destroyAllWindows()\n",
    "    out = cv2.VideoWriter('D:\\output.avi',cv2.VideoWriter_fourcc('M','J','P','G'), 10, (600,600))\n",
    "    for i in range(len(frame_array)):\n",
    "        out.write(frame_array[i])\n",
    "    out.release()"
   ]
  },
  {
   "cell_type": "code",
   "execution_count": 10,
   "metadata": {},
   "outputs": [
    {
     "name": "stdout",
     "output_type": "stream",
     "text": [
      "1041/1041 [==============================] - 4s 3ms/step\n",
      "(1041, 1)\n",
      "[0.96926033]\n"
     ]
    },
    {
     "ename": "KeyboardInterrupt",
     "evalue": "",
     "output_type": "error",
     "traceback": [
      "\u001b[1;31m---------------------------------------------------------------------------\u001b[0m",
      "\u001b[1;31mKeyboardInterrupt\u001b[0m                         Traceback (most recent call last)",
      "\u001b[1;32m<ipython-input-10-b21f108c97e4>\u001b[0m in \u001b[0;36m<module>\u001b[1;34m()\u001b[0m\n\u001b[0;32m     43\u001b[0m     \u001b[0mcv2\u001b[0m\u001b[1;33m.\u001b[0m\u001b[0mresizeWindow\u001b[0m\u001b[1;33m(\u001b[0m\u001b[1;34m'image'\u001b[0m\u001b[1;33m,\u001b[0m \u001b[1;36m1000\u001b[0m\u001b[1;33m,\u001b[0m\u001b[1;36m1000\u001b[0m\u001b[1;33m)\u001b[0m\u001b[1;33m\u001b[0m\u001b[0m\n\u001b[0;32m     44\u001b[0m     \u001b[0mcv2\u001b[0m\u001b[1;33m.\u001b[0m\u001b[0mimshow\u001b[0m\u001b[1;33m(\u001b[0m\u001b[1;34m'image'\u001b[0m\u001b[1;33m,\u001b[0m\u001b[0mimg\u001b[0m\u001b[1;33m)\u001b[0m\u001b[1;33m\u001b[0m\u001b[0m\n\u001b[1;32m---> 45\u001b[1;33m     \u001b[0mcv2\u001b[0m\u001b[1;33m.\u001b[0m\u001b[0mwaitKey\u001b[0m\u001b[1;33m(\u001b[0m\u001b[1;36m500\u001b[0m\u001b[1;33m)\u001b[0m\u001b[1;33m\u001b[0m\u001b[0m\n\u001b[0m\u001b[0;32m     46\u001b[0m     \u001b[0mcv2\u001b[0m\u001b[1;33m.\u001b[0m\u001b[0mdestroyAllWindows\u001b[0m\u001b[1;33m(\u001b[0m\u001b[1;33m)\u001b[0m\u001b[1;33m\u001b[0m\u001b[0m\n\u001b[0;32m     47\u001b[0m \u001b[1;33m\u001b[0m\u001b[0m\n",
      "\u001b[1;31mKeyboardInterrupt\u001b[0m: "
     ]
    }
   ],
   "source": [
    "PREDICTED_CLASSES = model1.predict_classes(testCreator(X_test), batch_size=1041, verbose=1)\n",
    "#print(type(PREDICTED_CLASSES))\n",
    "#PREDICTED_CLASSES = (PREDICTED_CLASSES>=0.5)\n",
    "y_test = y_test.reshape(1041,1)\n",
    "temp = sum(y_test == PREDICTED_CLASSES)/len(y_test)\n",
    "print(y_test.shape)\n",
    "print(temp)\n",
    "\n",
    "\n",
    "\n",
    "images = testCreator(X_test)\n",
    "\n",
    "font                   = cv2.FONT_HERSHEY_SIMPLEX\n",
    "bottomLeftCornerOfText = (10,150)\n",
    "fontScale              = 1\n",
    "fontColor              = (255,255,255)\n",
    "lineType               = 2\n",
    "\n",
    "combined = zip(images,PREDICTED_CLASSES)\n",
    "frame_array = []\n",
    "it = 0\n",
    "for i in combined:\n",
    "    \n",
    "    cv2.namedWindow('image',cv2.WINDOW_NORMAL)\n",
    "    img = cv2.cvtColor(i[0], cv2.COLOR_BGR2RGB)\n",
    "    if(i[1] == 1):\n",
    "                    cv2.putText(img,'Ships', \n",
    "                    bottomLeftCornerOfText, \n",
    "                    font, \n",
    "                    fontScale,\n",
    "                    fontColor,\n",
    "                    lineType)\n",
    "    else:\n",
    "                  cv2.putText(img,'Not a Ship', \n",
    "                    bottomLeftCornerOfText, \n",
    "                    font, \n",
    "                    fontScale,\n",
    "                    fontColor,\n",
    "                    lineType)\n",
    "    cv2.imwrite(\"output/\" + str(it)+\".png\",img)\n",
    "    it = it+1\n",
    "    frame_array.append(img)\n",
    "    cv2.resizeWindow('image', 1000,1000)\n",
    "    cv2.imshow('image',img)    \n",
    "    cv2.waitKey(500)\n",
    "    cv2.destroyAllWindows()\n",
    "    "
   ]
  },
  {
   "cell_type": "code",
   "execution_count": 54,
   "metadata": {
    "collapsed": true
   },
   "outputs": [],
   "source": []
  },
  {
   "cell_type": "code",
   "execution_count": null,
   "metadata": {
    "collapsed": true
   },
   "outputs": [],
   "source": []
  },
  {
   "cell_type": "code",
   "execution_count": null,
   "metadata": {
    "collapsed": true
   },
   "outputs": [],
   "source": []
  },
  {
   "cell_type": "code",
   "execution_count": null,
   "metadata": {
    "collapsed": true
   },
   "outputs": [],
   "source": []
  },
  {
   "cell_type": "code",
   "execution_count": null,
   "metadata": {
    "collapsed": true
   },
   "outputs": [],
   "source": []
  },
  {
   "cell_type": "code",
   "execution_count": null,
   "metadata": {
    "collapsed": true
   },
   "outputs": [],
   "source": []
  }
 ],
 "metadata": {
  "kernelspec": {
   "display_name": "Python 3",
   "language": "python",
   "name": "python3"
  },
  "language_info": {
   "codemirror_mode": {
    "name": "ipython",
    "version": 3
   },
   "file_extension": ".py",
   "mimetype": "text/x-python",
   "name": "python",
   "nbconvert_exporter": "python",
   "pygments_lexer": "ipython3",
   "version": "3.5.4"
  }
 },
 "nbformat": 4,
 "nbformat_minor": 2
}
